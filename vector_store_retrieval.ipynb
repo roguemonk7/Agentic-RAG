{
 "cells": [
  {
   "cell_type": "code",
   "execution_count": null,
   "id": "37c15b61",
   "metadata": {},
   "outputs": [],
   "source": [
    "!pip install faiss-cpu\n"
   ]
  },
  {
   "cell_type": "code",
   "execution_count": null,
   "id": "a47beabf",
   "metadata": {},
   "outputs": [],
   "source": [
    "import os\n",
    "import warnings\n",
    "from dotenv import load_dotenv\n",
    "\n",
    "os.environ['KMP_DUPLICATE_LIB_OK'] = \"True\"\n",
    "warnings.filterwarnings(\"ignore\")\n",
    "\n",
    "load_dotenv()\n"
   ]
  },
  {
   "cell_type": "code",
   "execution_count": null,
   "id": "cb0aee23",
   "metadata": {},
   "outputs": [],
   "source": [
    "from langchain_community.document_loaders import PyMuPDFLoader\n",
    "\n",
    "loader = PyMuPDFLoader(r\"rag-datset\\gym supplements\\1. Analysis of Actual Fitness Supplement.pdf\")\n",
    "\n",
    "loader.load()"
   ]
  },
  {
   "cell_type": "code",
   "execution_count": null,
   "id": "485b1625",
   "metadata": {},
   "outputs": [],
   "source": [
    "pdfs = []\n",
    "for root, dirs, files in os.walk(\"rag-datset\"):\n",
    "    for file in files:\n",
    "        if file.endswith(\".pdf\"):\n",
    "            pdfs.append(os.path.join(root, file))"
   ]
  },
  {
   "cell_type": "code",
   "execution_count": null,
   "id": "23f5ffdd",
   "metadata": {},
   "outputs": [],
   "source": [
    "pdfs"
   ]
  },
  {
   "cell_type": "code",
   "execution_count": null,
   "id": "cc6640b1",
   "metadata": {},
   "outputs": [],
   "source": [
    "docs = []\n",
    "for pdf in pdfs:\n",
    "    loader = PyMuPDFLoader(pdf)\n",
    "    temp = loader.load()\n",
    "    docs.extend(temp)"
   ]
  },
  {
   "cell_type": "code",
   "execution_count": null,
   "id": "27ffd703",
   "metadata": {},
   "outputs": [],
   "source": [
    "len(docs)"
   ]
  },
  {
   "cell_type": "code",
   "execution_count": null,
   "id": "60dccca5",
   "metadata": {},
   "outputs": [],
   "source": [
    "docs"
   ]
  },
  {
   "cell_type": "code",
   "execution_count": null,
   "id": "52104789",
   "metadata": {},
   "outputs": [],
   "source": [
    "docs[:4]"
   ]
  },
  {
   "cell_type": "code",
   "execution_count": null,
   "id": "10505e78",
   "metadata": {},
   "outputs": [],
   "source": [
    "from langchain_text_splitters import RecursiveCharacterTextSplitter\n",
    "text_splitter = RecursiveCharacterTextSplitter(\n",
    "    chunk_size=1000,\n",
    "    chunk_overlap=100,\n",
    ")\n",
    "chunks = text_splitter.split_documents(docs)"
   ]
  },
  {
   "cell_type": "code",
   "execution_count": null,
   "id": "abb13511",
   "metadata": {},
   "outputs": [],
   "source": [
    "len(chunks), len(docs), len(pdfs)"
   ]
  },
  {
   "cell_type": "code",
   "execution_count": null,
   "id": "44486465",
   "metadata": {},
   "outputs": [],
   "source": [
    "docs[0].metadata\n",
    "print(docs[0].page_content)"
   ]
  },
  {
   "cell_type": "code",
   "execution_count": null,
   "id": "5160c4e7",
   "metadata": {},
   "outputs": [],
   "source": [
    "from langchain_ollama.embeddings import OllamaEmbeddings\n",
    "import faiss\n",
    "from langchain_community.vectorstores import FAISS\n",
    "from langchain_community.docstore.in_memory import InMemoryDocstore\n",
    "\n"
   ]
  },
  {
   "cell_type": "code",
   "execution_count": null,
   "id": "1cbe730a",
   "metadata": {},
   "outputs": [],
   "source": [
    "embeddings = OllamaEmbeddings(model=\"nomic-embed-text\",\n",
    "                              base_url=\"http://localhost:11434\"\n",
    ")\n",
    "\n",
    "vector = embeddings.embed_query(chunks[0].page_content)"
   ]
  },
  {
   "cell_type": "code",
   "execution_count": null,
   "id": "6cbb7c5f",
   "metadata": {},
   "outputs": [],
   "source": [
    "vector"
   ]
  },
  {
   "cell_type": "code",
   "execution_count": null,
   "id": "42fc9d31",
   "metadata": {},
   "outputs": [],
   "source": [
    "len(vector)\n",
    "\n",
    "index= faiss.IndexFlatL2(len(vector))"
   ]
  },
  {
   "cell_type": "code",
   "execution_count": null,
   "id": "b2457902",
   "metadata": {},
   "outputs": [],
   "source": [
    "index"
   ]
  },
  {
   "cell_type": "code",
   "execution_count": null,
   "id": "871fadc5",
   "metadata": {},
   "outputs": [],
   "source": [
    "vector_store = FAISS(embedding_function=embeddings,\n",
    "                      index=index,\n",
    "                      docstore=InMemoryDocstore(),\n",
    "                      index_to_docstore_id={}\n",
    ")\n"
   ]
  },
  {
   "cell_type": "code",
   "execution_count": null,
   "id": "84033052",
   "metadata": {},
   "outputs": [],
   "source": [
    "vector_store.index.ntotal"
   ]
  },
  {
   "cell_type": "code",
   "execution_count": null,
   "id": "c17a39d6",
   "metadata": {},
   "outputs": [],
   "source": [
    "ids = vector_store.add_documents(documents = chunks)"
   ]
  },
  {
   "cell_type": "code",
   "execution_count": null,
   "id": "5281e891",
   "metadata": {},
   "outputs": [],
   "source": [
    "len(ids), vector_store.index.ntotal"
   ]
  },
  {
   "cell_type": "code",
   "execution_count": null,
   "id": "9a9ab087",
   "metadata": {},
   "outputs": [],
   "source": [
    "question = \"How to gain muscle mass?\"\n",
    "result = vector_store.search(query=question, k=5, search_type=\"similarity\")\n",
    "result"
   ]
  },
  {
   "cell_type": "code",
   "execution_count": null,
   "id": "b83402db",
   "metadata": {},
   "outputs": [],
   "source": [
    "db_name = \"health_supplements\"\n",
    "vector_store.save_local(db_name)"
   ]
  },
  {
   "cell_type": "code",
   "execution_count": null,
   "id": "1ebc2bb9",
   "metadata": {},
   "outputs": [],
   "source": []
  }
 ],
 "metadata": {
  "kernelspec": {
   "display_name": "ml",
   "language": "python",
   "name": "python3"
  },
  "language_info": {
   "codemirror_mode": {
    "name": "ipython",
    "version": 3
   },
   "file_extension": ".py",
   "mimetype": "text/x-python",
   "name": "python",
   "nbconvert_exporter": "python",
   "pygments_lexer": "ipython3",
   "version": "3.12.4"
  }
 },
 "nbformat": 4,
 "nbformat_minor": 5
}
